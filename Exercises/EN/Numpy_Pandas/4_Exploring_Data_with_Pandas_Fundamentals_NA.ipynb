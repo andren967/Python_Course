{
 "cells": [
  {
   "cell_type": "markdown",
   "metadata": {},
   "source": [
    "# About This Notebook\n",
    "In this **Exploring Data with Pandas: Fundamentals** chapter, we will learn:\n",
    "- How to select data from pandas objects using boolean arrays.\n",
    "- How to assign data using labels and boolean arrays.\n",
    "- How to create new rows and columns in pandas.\n",
    "\n",
    "****\n",
    "## 1. Introduction to the Data\n",
    "\n",
    "We learned the basics of the pandas library in the previous chapter and explored some dataframes using the techniques we have learned. Just to refresh your memory:\n",
    "> Axis values in dataframes can have **string labels**, not just numeric ones, which makes selecting data much easier.\n",
    "\n",
    "> Dataframes have the ability to contain columns with **multiple data types**: such as integer, float, and string.\n",
    "\n",
    "In this chapter, we'll learn some other ways working with data using pandas.\n",
    "\n",
    "This time, we will continue working with a data set from Fortune magazine's Global 500 list 2017.\n",
    "\n",
    "Here is a data dictionary for some of the columns in the CSV:\n",
    "\n",
    "- **company**: Name of the company.\n",
    "- **rank**: Global 500 rank for the company.\n",
    "- **revenues**: Company's total revenue for the fiscal year, in millions of dollars (USD).\n",
    "- **revenue_change**: Percentage change in revenue between the current and prior fiscal year.\n",
    "- **profits**: Net income for the fiscal year, in millions of dollars (USD).\n",
    "- **ceo**: Company's Chief Executive Officer.\n",
    "- **industry**: Industry in which the company operates.\n",
    "- **sector**: Sector in which the company operates.\n",
    "- **previous_rank**: Global 500 rank for the company for the prior year.\n",
    "- **country**: Country in which the company is headquartered.\n",
    "- **hq_location**: City and Country, (or City and State for the USA) where the company is headquartered.\n",
    "- **employees**: Total employees (full-time equivalent, if available) at fiscal year-end."
   ]
  },
  {
   "cell_type": "code",
   "execution_count": 1,
   "metadata": {},
   "outputs": [],
   "source": [
    "import pandas as pd\n",
    "import numpy as np\n",
    "\n",
    "f500 = pd.read_csv('../../../Data/csv/f500.csv',index_col=0)"
   ]
  },
  {
   "cell_type": "markdown",
   "metadata": {},
   "source": [
    "### Task 3.4.1:\n",
    "Now I have already read the dataset into a pandas dataframe and assigned it to a variable named ``f500``.\n",
    "\n",
    "1. Use the ``DataFrame.head()`` method to select the first 10 rows in ``f500``. Assign the result to ``f500_head``.\n",
    "2. Use the ``DataFrame.info()`` method to display information about the dataframe."
   ]
  },
  {
   "cell_type": "code",
   "execution_count": 3,
   "metadata": {},
   "outputs": [
    {
     "data": {
      "text/plain": [
       "<bound method DataFrame.info of                                 rank  revenues  revenue_change  profits  \\\n",
       "company                                                                   \n",
       "Walmart                            1    485873             0.8  13643.0   \n",
       "State Grid                         2    315199            -4.4   9571.3   \n",
       "Sinopec Group                      3    267518            -9.1   1257.9   \n",
       "China National Petroleum           4    262573           -12.3   1867.5   \n",
       "Toyota Motor                       5    254694             7.7  16899.3   \n",
       "...                              ...       ...             ...      ...   \n",
       "Teva Pharmaceutical Industries   496     21903            11.5    329.0   \n",
       "New China Life Insurance         497     21796           -13.3    743.9   \n",
       "Wm. Morrison Supermarkets        498     21741           -11.3    406.4   \n",
       "TUI                              499     21655            -5.5   1151.7   \n",
       "AutoNation                       500     21609             3.6    430.5   \n",
       "\n",
       "                                assets  profit_change                  ceo  \\\n",
       "company                                                                      \n",
       "Walmart                         198825           -7.2  C. Douglas McMillon   \n",
       "State Grid                      489838           -6.2              Kou Wei   \n",
       "Sinopec Group                   310726          -65.0            Wang Yupu   \n",
       "China National Petroleum        585619          -73.7        Zhang Jianhua   \n",
       "Toyota Motor                    437575          -12.3          Akio Toyoda   \n",
       "...                                ...            ...                  ...   \n",
       "Teva Pharmaceutical Industries   92890          -79.3    Yitzhak Peterburg   \n",
       "New China Life Insurance        100609          -45.6             Wan Feng   \n",
       "Wm. Morrison Supermarkets        11630           20.4       David T. Potts   \n",
       "TUI                              16247          195.5    Friedrich Joussen   \n",
       "AutoNation                       10060           -2.7   Michael J. Jackson   \n",
       "\n",
       "                                                       industry  \\\n",
       "company                                                           \n",
       "Walmart                                   General Merchandisers   \n",
       "State Grid                                            Utilities   \n",
       "Sinopec Group                                Petroleum Refining   \n",
       "China National Petroleum                     Petroleum Refining   \n",
       "Toyota Motor                           Motor Vehicles and Parts   \n",
       "...                                                         ...   \n",
       "Teva Pharmaceutical Industries                  Pharmaceuticals   \n",
       "New China Life Insurance        Insurance: Life, Health (stock)   \n",
       "Wm. Morrison Supermarkets                  Food and Drug Stores   \n",
       "TUI                                             Travel Services   \n",
       "AutoNation                                  Specialty Retailers   \n",
       "\n",
       "                                                sector  previous_rank  \\\n",
       "company                                                                 \n",
       "Walmart                                      Retailing              1   \n",
       "State Grid                                      Energy              2   \n",
       "Sinopec Group                                   Energy              4   \n",
       "China National Petroleum                        Energy              3   \n",
       "Toyota Motor                    Motor Vehicles & Parts              8   \n",
       "...                                                ...            ...   \n",
       "Teva Pharmaceutical Industries             Health Care              0   \n",
       "New China Life Insurance                    Financials            427   \n",
       "Wm. Morrison Supermarkets           Food & Drug Stores            437   \n",
       "TUI                                  Business Services            467   \n",
       "AutoNation                                   Retailing              0   \n",
       "\n",
       "                                country           hq_location  \\\n",
       "company                                                         \n",
       "Walmart                             USA       Bentonville, AR   \n",
       "State Grid                        China        Beijing, China   \n",
       "Sinopec Group                     China        Beijing, China   \n",
       "China National Petroleum          China        Beijing, China   \n",
       "Toyota Motor                      Japan         Toyota, Japan   \n",
       "...                                 ...                   ...   \n",
       "Teva Pharmaceutical Industries   Israel  Petach Tikva, Israel   \n",
       "New China Life Insurance          China        Beijing, China   \n",
       "Wm. Morrison Supermarkets       Britain     Bradford, Britain   \n",
       "TUI                             Germany      Hanover, Germany   \n",
       "AutoNation                          USA   Fort Lauderdale, FL   \n",
       "\n",
       "                                                     website  \\\n",
       "company                                                        \n",
       "Walmart                               http://www.walmart.com   \n",
       "State Grid                            http://www.sgcc.com.cn   \n",
       "Sinopec Group                         http://www.sinopec.com   \n",
       "China National Petroleum              http://www.cnpc.com.cn   \n",
       "Toyota Motor                    http://www.toyota-global.com   \n",
       "...                                                      ...   \n",
       "Teva Pharmaceutical Industries      http://www.tevapharm.com   \n",
       "New China Life Insurance         http://www.newchinalife.com   \n",
       "Wm. Morrison Supermarkets           http://www.morrisons.com   \n",
       "TUI                                  http://www.tuigroup.com   \n",
       "AutoNation                         http://www.autonation.com   \n",
       "\n",
       "                                years_on_global_500_list  employees  \\\n",
       "company                                                               \n",
       "Walmart                                               23    2300000   \n",
       "State Grid                                            17     926067   \n",
       "Sinopec Group                                         19     713288   \n",
       "China National Petroleum                              17    1512048   \n",
       "Toyota Motor                                          23     364445   \n",
       "...                                                  ...        ...   \n",
       "Teva Pharmaceutical Industries                         1      56960   \n",
       "New China Life Insurance                               2      54378   \n",
       "Wm. Morrison Supermarkets                             13      77210   \n",
       "TUI                                                   23      66779   \n",
       "AutoNation                                            12      26000   \n",
       "\n",
       "                                total_stockholder_equity  \n",
       "company                                                   \n",
       "Walmart                                            77798  \n",
       "State Grid                                        209456  \n",
       "Sinopec Group                                     106523  \n",
       "China National Petroleum                          301893  \n",
       "Toyota Motor                                      157210  \n",
       "...                                                  ...  \n",
       "Teva Pharmaceutical Industries                     33337  \n",
       "New China Life Insurance                            8507  \n",
       "Wm. Morrison Supermarkets                           5111  \n",
       "TUI                                                 3006  \n",
       "AutoNation                                          2310  \n",
       "\n",
       "[500 rows x 16 columns]>"
      ]
     },
     "execution_count": 3,
     "metadata": {},
     "output_type": "execute_result"
    }
   ],
   "source": [
    "# Start your code here:\n",
    "f500_head = f500.head()\n",
    "f500.info"
   ]
  },
  {
   "cell_type": "markdown",
   "metadata": {},
   "source": [
    "## 2. Vectorized Operations\n",
    "\n",
    "Do you remember vectorized operations which we encountered in the NumPy library? Vectorized operations enable operations applied to multiple data points at once, which does not only improve our code's performance, but also enables us to write code more quickly.\n",
    "\n",
    "Since pandas is an extension of NumPy, it also supports vectorized operations. Just like with NumPy, we can use any of the standard Python numeric operators with series, including:\n",
    "\n",
    "\n",
    "- **Addition**: `vector_a + vector_b`\n",
    "- **Subtraction**: `vector_a - vector_b`\n",
    "- **Multiplication**: (unrelated to the vector multiplication in linear algebra): `vector_a * vector_b`\n",
    "- **Division**: `vecotr_a / vector_b`\n",
    "\n",
    "\n",
    "### Task 3.4.2: \n",
    "1. Subtract the values in the `rank` column from the values in the ``previous_rank`` column. Assign the result to a variable ``rank_change``."
   ]
  },
  {
   "cell_type": "code",
   "execution_count": 4,
   "metadata": {},
   "outputs": [],
   "source": [
    "# Start your code below:\n",
    "rank_change = f500[\"previous_rank\"]-f500[\"rank\"]\n"
   ]
  },
  {
   "cell_type": "markdown",
   "metadata": {},
   "source": [
    "## 3. Series Data Exploration Methods\n",
    "\n",
    "Just as NumPy, pandas supports many descriptive ``stats`` methods like the following:\n",
    "- `Series.max()`\n",
    "- `Series.min()`\n",
    "- `Series.mean()`\n",
    "- `Series.median()`\n",
    "- `Series.mode()`\n",
    "- `Series.sum()`\n",
    "\n",
    "Look at how you can use the stats methods below:"
   ]
  },
  {
   "cell_type": "markdown",
   "metadata": {},
   "source": [
    "````python\n",
    "print(my_series)\n",
    "````"
   ]
  },
  {
   "cell_type": "markdown",
   "metadata": {},
   "source": [
    "Output:\n",
    "````python\n",
    "0    1\n",
    "1    2\n",
    "2    3\n",
    "3    4\n",
    "4    5\n",
    "dtype: int64\n",
    "````"
   ]
  },
  {
   "cell_type": "markdown",
   "metadata": {},
   "source": [
    "````python\n",
    "print(my_series.sum())\n",
    "````"
   ]
  },
  {
   "cell_type": "markdown",
   "metadata": {},
   "source": [
    "Output:\n",
    "````python\n",
    "15\n",
    "````"
   ]
  },
  {
   "cell_type": "markdown",
   "metadata": {},
   "source": [
    "### Task 3.4.3:\n",
    "1. Use the `Series.max()` method to find the maximum value for the `rank_change` series. Assign the result to the variable `rank_change_max`.\n",
    "2. Use the `Series.min()` method to find the minimum value for the `rank_change` series. Assign the result to the variable `rank_change_min`."
   ]
  },
  {
   "cell_type": "code",
   "execution_count": 6,
   "metadata": {},
   "outputs": [
    {
     "name": "stdout",
     "output_type": "stream",
     "text": [
      "226\n",
      "-500\n"
     ]
    }
   ],
   "source": [
    "# Start your code below:\n",
    "rank_change_max = rank_change.max()\n",
    "rank_change_min = rank_change.min()\n",
    "\n",
    "print(rank_change_max)\n",
    "print(rank_change_min)\n"
   ]
  },
  {
   "cell_type": "markdown",
   "metadata": {},
   "source": [
    "## 4. Series Describe Method\n",
    "\n",
    "In this session, we will learn another method called `Series.describe` This [method](https://pandas.pydata.org/pandas-docs/stable/reference/api/pandas.Series.describe.html) shows us various information such as how many non-null values are contained in the series, the average, minimum, maximum, and other statistics.\n",
    "\n",
    "Let's see how we can use this method:"
   ]
  },
  {
   "cell_type": "code",
   "execution_count": 7,
   "metadata": {},
   "outputs": [
    {
     "name": "stdout",
     "output_type": "stream",
     "text": [
      "count    5.000000e+02\n",
      "mean     2.436323e+05\n",
      "std      4.851937e+05\n",
      "min      3.717000e+03\n",
      "25%      3.658850e+04\n",
      "50%      7.326150e+04\n",
      "75%      1.805640e+05\n",
      "max      3.473238e+06\n",
      "Name: assets, dtype: float64\n"
     ]
    }
   ],
   "source": [
    "assets = f500[\"assets\"]\n",
    "print(assets.describe())"
   ]
  },
  {
   "cell_type": "markdown",
   "metadata": {},
   "source": [
    "You can see that the values in the code segment above are displayed in <b>E-notation</b>, a type of [scientific notation](https://en.wikipedia.org/wiki/Scientific_notation).\n",
    "\n",
    "When we use `describe()` on a column which contains non-numeric values, we will get some different statistics, like the following example shows:"
   ]
  },
  {
   "cell_type": "code",
   "execution_count": 8,
   "metadata": {},
   "outputs": [
    {
     "name": "stdout",
     "output_type": "stream",
     "text": [
      "count     500\n",
      "unique     34\n",
      "top       USA\n",
      "freq      132\n",
      "Name: country, dtype: object\n"
     ]
    }
   ],
   "source": [
    "country = f500[\"country\"]\n",
    "print(country.describe())"
   ]
  },
  {
   "cell_type": "markdown",
   "metadata": {},
   "source": [
    "The first line of information, `count`, is the same as for numeric columns, showing us the number of non-null values. The other three statistics are described below:\n",
    "\n",
    "- ``unique``: Number of unique values in the series.\n",
    "- ``top``: Most common value in the series.\n",
    "- ``freq``: Frequency of the most common value. "
   ]
  },
  {
   "cell_type": "markdown",
   "metadata": {},
   "source": [
    "### Task 3.4.4\n",
    "1. Return a series of descriptive statistics for the rank column in ``f500``.\n",
    "    - Select the rank column. Assign it to a variable named ``rank``.\n",
    "    - Use the ``Series.describe()`` method to return a series of statistics for rank. Assign the result to ``rank_desc``.\n",
    "2. Return a series of descriptive statistics for the `previous_rank` column in `f500`.\n",
    "    - Select the ``previous_rank`` column. Assign it to a variable named ``prev_rank``.\n",
    "    - Use the ``Series.describe()`` method to return a series of statistics for ``prev_rank``. Assign the result to ``prev_rank_desc``."
   ]
  },
  {
   "cell_type": "code",
   "execution_count": 11,
   "metadata": {},
   "outputs": [
    {
     "name": "stdout",
     "output_type": "stream",
     "text": [
      "count    500.000000\n",
      "mean     250.500000\n",
      "std      144.481833\n",
      "min        1.000000\n",
      "25%      125.750000\n",
      "50%      250.500000\n",
      "75%      375.250000\n",
      "max      500.000000\n",
      "Name: rank, dtype: float64\n"
     ]
    }
   ],
   "source": [
    "# Start your code below:\n",
    "rank = f500[\"rank\"]\n",
    "print(rank.describe())\n",
    "prev_rank = f500[\"previous_rank\"]\n",
    "prev_rank_desc = prev_rank.describe()\n"
   ]
  },
  {
   "cell_type": "markdown",
   "metadata": {},
   "source": [
    "## 5. Method Chaining (IMPORTANT)\n",
    "\n",
    "Method chaining is a common syntax for invoking multiple method calls in object-oriented programming languages. Each method returns an object, allowing the calls to be chained together in a single statement without requiring variables to store the intermediate results ([Wikipedia](https://en.wikipedia.org/wiki/Method_chaining)).\n",
    "\n",
    "We have actually used a couple of method chainings before in our previous examples."
   ]
  },
  {
   "cell_type": "markdown",
   "metadata": {},
   "source": [
    "\n",
    "#### Without method chaining\n",
    "````python\n",
    "countries = f500[\"country\"]\n",
    "countries_counts = countries.value_counts()\n",
    "````"
   ]
  },
  {
   "cell_type": "markdown",
   "metadata": {},
   "source": [
    "#### With method chaining\n",
    "````python\n",
    "countries_counts = f500[\"country\"].value_counts() \n",
    "````"
   ]
  },
  {
   "cell_type": "markdown",
   "metadata": {},
   "source": [
    "From now on, we'll try to use more and more method chaining in the code. When writing code, always assess whether method chaining will make your code harder to read. If it does, it's always preferable to break the code into more than one line.\n",
    "\n",
    "### Task 3.4.5\n",
    "1. Use `Series.value_counts()` and `Series.loc` to return the number of companies with a value of `0` of the `previous_rank` column in the `f500` dataframe. Assign the results to `zero_previous_rank`."
   ]
  },
  {
   "cell_type": "code",
   "execution_count": 16,
   "metadata": {},
   "outputs": [
    {
     "name": "stdout",
     "output_type": "stream",
     "text": [
      "33\n"
     ]
    }
   ],
   "source": [
    "# Start your code below:\n",
    "zero_previous_rank = f500.loc[:,\"previous_rank\"].value_counts()[0]\n",
    "print(zero_previous_rank)\n"
   ]
  },
  {
   "cell_type": "markdown",
   "metadata": {},
   "source": [
    "## 6. Dataframe Exploration Methods\n",
    "\n",
    "Since series and dataframes are two distinct objects, they have their own unique methods. However, they also have methods with the same name that behave in a similar manner. Find some examples below:\n",
    "\n",
    "- `Series.max()` and `DataFrame.max()`\n",
    "- `Series.min()` and `DataFrame.min()`\n",
    "- `Series.mean()` and `DataFrame.mean()`\n",
    "- `Series.median()` and `DataFrame.median()`\n",
    "- `Series.mode()` and `DataFrame.mode()`\n",
    "- `Series.sum()` and `DataFrame.sum()`\n",
    "\n",
    "> In contrast to series, dataframe methods require an axis parameter in order to know which axis to calculate across. You can use integers to refer to the first and second axis. Pandas dataframe methods also accept the strings ``index`` and ``columns`` for the axis parameter:"
   ]
  },
  {
   "cell_type": "markdown",
   "metadata": {},
   "source": [
    "````python\n",
    "# When we try to calculate along the row axis\n",
    "DataFrame.method(axis = 0)\n",
    "# or \n",
    "Dataframe.method(axis = \"index\")\n",
    "````"
   ]
  },
  {
   "cell_type": "markdown",
   "metadata": {},
   "source": [
    "````python\n",
    "# When we try to calculate along the column axis\n",
    "DataFrame.method(axis = 1)\n",
    "# or \n",
    "Dataframe.method(axis = \"column\")\n",
    "````"
   ]
  },
  {
   "cell_type": "markdown",
   "metadata": {},
   "source": [
    "For a more concrete example, if we want to find the median for the **revenues** and **profits** columns in our data set, we can do the following:"
   ]
  },
  {
   "cell_type": "code",
   "execution_count": 17,
   "metadata": {},
   "outputs": [
    {
     "name": "stdout",
     "output_type": "stream",
     "text": [
      "revenues    40236.0\n",
      "profits      1761.6\n",
      "dtype: float64\n"
     ]
    }
   ],
   "source": [
    "medians = f500[[\"revenues\", \"profits\"]].median(axis=0)\n",
    "# we could also use .median(axis=\"index\")\n",
    "print(medians)"
   ]
  },
  {
   "cell_type": "markdown",
   "metadata": {},
   "source": [
    "### Task 3.4.6\n",
    "\n",
    "Now, it's your time to shine!\n",
    "1. Use the `DataFrame.max()` method to find the maximum value for only the numeric columns from `f500` (you may need to check the documentation). Assign the result to the variable `max_f500`."
   ]
  },
  {
   "cell_type": "code",
   "execution_count": 22,
   "metadata": {},
   "outputs": [],
   "source": [
    "# Start your code below:\n",
    "max_f500 = f500.max(numeric_only=True)"
   ]
  },
  {
   "cell_type": "markdown",
   "metadata": {},
   "source": [
    "## 7. Dataframe Describe Method\n",
    "\n",
    "Try to see how we can use `DataFrame.max()` method below:"
   ]
  },
  {
   "cell_type": "code",
   "execution_count": 23,
   "metadata": {},
   "outputs": [
    {
     "data": {
      "text/plain": [
       "rank                            500.0\n",
       "revenues                     485873.0\n",
       "revenue_change                  442.3\n",
       "profits                       45687.0\n",
       "assets                      3473238.0\n",
       "profit_change                  8909.5\n",
       "previous_rank                   500.0\n",
       "years_on_global_500_list         23.0\n",
       "employees                   2300000.0\n",
       "total_stockholder_equity     301893.0\n",
       "dtype: float64"
      ]
     },
     "execution_count": 23,
     "metadata": {},
     "output_type": "execute_result"
    }
   ],
   "source": [
    "f500.max(numeric_only=True)"
   ]
  },
  {
   "cell_type": "markdown",
   "metadata": {},
   "source": [
    "Like series objects, there is also a `DataFrame.describe()` method that we can use to explore the dataframe more efficiently. Take a look at the `DataFrame.describe()` documentation [here](https://pandas.pydata.org/pandas-docs/stable/reference/api/pandas.DataFrame.describe.html).\n",
    "\n",
    "There are a couple of differences between the `Series.describe()` method and `DataFrame.describe()` method. For example, the `Series.describe()` method returns a series object, the `DataFrame.describe()` method returns a dataframe object.\n",
    "\n",
    "### Task 3.4.7\n",
    "\n",
    "Now let's have some practice with the `DataFrame.describe()` method that we just learned.\n",
    "1. Return a dataframe of descriptive statistics for all of the numeric columns in `f500`. Assign the result to `f500_desc`."
   ]
  },
  {
   "cell_type": "code",
   "execution_count": 24,
   "metadata": {},
   "outputs": [],
   "source": [
    "# Start your code below:\n",
    "f500_desc = f500.describe()"
   ]
  },
  {
   "cell_type": "markdown",
   "metadata": {},
   "source": [
    "## 8. Assignment with pandas\n",
    "\n",
    "Let's start by learning assignment, starting with the following example:"
   ]
  },
  {
   "cell_type": "code",
   "execution_count": 25,
   "metadata": {},
   "outputs": [
    {
     "name": "stdout",
     "output_type": "stream",
     "text": [
      "                          rank  revenues\n",
      "company                                 \n",
      "Walmart                      1    485873\n",
      "State Grid                   2    315199\n",
      "Sinopec Group                3    267518\n",
      "China National Petroleum     4    262573\n",
      "Toyota Motor                 5    254694\n"
     ]
    }
   ],
   "source": [
    "top5_rank_revenue = f500[[\"rank\", \"revenues\"]].head()\n",
    "print(top5_rank_revenue)"
   ]
  },
  {
   "cell_type": "code",
   "execution_count": 26,
   "metadata": {},
   "outputs": [
    {
     "name": "stdout",
     "output_type": "stream",
     "text": [
      "                          rank  revenues\n",
      "company                                 \n",
      "Walmart                      1         0\n",
      "State Grid                   2         0\n",
      "Sinopec Group                3         0\n",
      "China National Petroleum     4         0\n",
      "Toyota Motor                 5         0\n"
     ]
    }
   ],
   "source": [
    "top5_rank_revenue[\"revenues\"] = 0\n",
    "print(top5_rank_revenue)"
   ]
  },
  {
   "cell_type": "markdown",
   "metadata": {},
   "source": [
    "As in Numpy, we can apply the same technique that we use to select data to assignment. \n",
    "> Just remember, when we selected a whole column by label and used assignment, we assigned the value to every item in that column.\n",
    "\n",
    "When we provide labels for both axes, we assign the value to a single item within our dataframe."
   ]
  },
  {
   "cell_type": "code",
   "execution_count": 27,
   "metadata": {},
   "outputs": [
    {
     "name": "stdout",
     "output_type": "stream",
     "text": [
      "                          rank  revenues\n",
      "company                                 \n",
      "Walmart                      1         0\n",
      "State Grid                   2         0\n",
      "Sinopec Group                3       999\n",
      "China National Petroleum     4         0\n",
      "Toyota Motor                 5         0\n"
     ]
    }
   ],
   "source": [
    "top5_rank_revenue.loc[\"Sinopec Group\", \"revenues\"] = 999\n",
    "print(top5_rank_revenue)"
   ]
  },
  {
   "cell_type": "markdown",
   "metadata": {},
   "source": [
    "### Task 3.4.8\n",
    "\n",
    "Use again our Fortune 500 data set:\n",
    "1. The company \"Dow Chemical\" has named a new CEO. Update the value where the row label is `Dow Chemical` by changing the ceo column to `Jim Fitterling` in the `f500` dataframe."
   ]
  },
  {
   "cell_type": "code",
   "execution_count": 31,
   "metadata": {},
   "outputs": [
    {
     "data": {
      "text/plain": [
       "'Jim Fitterling'"
      ]
     },
     "execution_count": 31,
     "metadata": {},
     "output_type": "execute_result"
    }
   ],
   "source": [
    "# Start your code below:\n",
    "f500.loc[\"Dow Chemical\",\"ceo\"] = \"Jim Fitterling\"\n",
    "f500.loc[\"Dow Chemical\",\"ceo\"]\n"
   ]
  },
  {
   "cell_type": "markdown",
   "metadata": {},
   "source": [
    "## 9. Using Boolean Indexing with pandas Objects\n",
    "\n",
    "In order to replace many values at the same time, we recommend using <b> boolean indexing </b> to change all rows that meet the same criteria, just like we did with NumPy.\n",
    "\n",
    "Let's take a look at the dataframe example below. This is a dataframe of people and their favorite numbers:"
   ]
  },
  {
   "cell_type": "code",
   "execution_count": 33,
   "metadata": {},
   "outputs": [
    {
     "data": {
      "text/html": [
       "<div>\n",
       "<style scoped>\n",
       "    .dataframe tbody tr th:only-of-type {\n",
       "        vertical-align: middle;\n",
       "    }\n",
       "\n",
       "    .dataframe tbody tr th {\n",
       "        vertical-align: top;\n",
       "    }\n",
       "\n",
       "    .dataframe thead th {\n",
       "        text-align: right;\n",
       "    }\n",
       "</style>\n",
       "<table border=\"1\" class=\"dataframe\">\n",
       "  <thead>\n",
       "    <tr style=\"text-align: right;\">\n",
       "      <th></th>\n",
       "      <th>name</th>\n",
       "      <th>num</th>\n",
       "    </tr>\n",
       "  </thead>\n",
       "  <tbody>\n",
       "    <tr>\n",
       "      <th>0</th>\n",
       "      <td>Kyllie</td>\n",
       "      <td>12</td>\n",
       "    </tr>\n",
       "    <tr>\n",
       "      <th>1</th>\n",
       "      <td>Rahul</td>\n",
       "      <td>8</td>\n",
       "    </tr>\n",
       "    <tr>\n",
       "      <th>2</th>\n",
       "      <td>Michael</td>\n",
       "      <td>5</td>\n",
       "    </tr>\n",
       "    <tr>\n",
       "      <th>3</th>\n",
       "      <td>Sarah</td>\n",
       "      <td>8</td>\n",
       "    </tr>\n",
       "  </tbody>\n",
       "</table>\n",
       "</div>"
      ],
      "text/plain": [
       "      name  num\n",
       "0   Kyllie   12\n",
       "1    Rahul    8\n",
       "2  Michael    5\n",
       "3    Sarah    8"
      ]
     },
     "execution_count": 33,
     "metadata": {},
     "output_type": "execute_result"
    }
   ],
   "source": [
    "import pandas as pd\n",
    "\n",
    "d = {'name': [\"Kyllie\", \"Rahul\", \"Michael\", \"Sarah\"], 'num': [12, 8, 5, 8]}\n",
    "\n",
    "df = pd.DataFrame(data=d)\n",
    "df"
   ]
  },
  {
   "cell_type": "markdown",
   "metadata": {},
   "source": [
    "If we want to check which people have a favorite number of 8, we can first perform a vectorized boolean operation that produces a boolean series:"
   ]
  },
  {
   "cell_type": "code",
   "execution_count": 34,
   "metadata": {},
   "outputs": [
    {
     "data": {
      "text/plain": [
       "0    False\n",
       "1     True\n",
       "2    False\n",
       "3     True\n",
       "Name: num, dtype: bool"
      ]
     },
     "execution_count": 34,
     "metadata": {},
     "output_type": "execute_result"
    }
   ],
   "source": [
    "num_bool = df[\"num\"] == 8\n",
    "num_bool"
   ]
  },
  {
   "cell_type": "markdown",
   "metadata": {},
   "source": [
    "We have used a series to index the whole dataframe, leaving us with the rows that correspond only to people whose favorite number is 8:"
   ]
  },
  {
   "cell_type": "code",
   "execution_count": 35,
   "metadata": {},
   "outputs": [
    {
     "data": {
      "text/html": [
       "<div>\n",
       "<style scoped>\n",
       "    .dataframe tbody tr th:only-of-type {\n",
       "        vertical-align: middle;\n",
       "    }\n",
       "\n",
       "    .dataframe tbody tr th {\n",
       "        vertical-align: top;\n",
       "    }\n",
       "\n",
       "    .dataframe thead th {\n",
       "        text-align: right;\n",
       "    }\n",
       "</style>\n",
       "<table border=\"1\" class=\"dataframe\">\n",
       "  <thead>\n",
       "    <tr style=\"text-align: right;\">\n",
       "      <th></th>\n",
       "      <th>name</th>\n",
       "      <th>num</th>\n",
       "    </tr>\n",
       "  </thead>\n",
       "  <tbody>\n",
       "    <tr>\n",
       "      <th>1</th>\n",
       "      <td>Rahul</td>\n",
       "      <td>8</td>\n",
       "    </tr>\n",
       "    <tr>\n",
       "      <th>3</th>\n",
       "      <td>Sarah</td>\n",
       "      <td>8</td>\n",
       "    </tr>\n",
       "  </tbody>\n",
       "</table>\n",
       "</div>"
      ],
      "text/plain": [
       "    name  num\n",
       "1  Rahul    8\n",
       "3  Sarah    8"
      ]
     },
     "execution_count": 35,
     "metadata": {},
     "output_type": "execute_result"
    }
   ],
   "source": [
    "result = df[num_bool]\n",
    "result"
   ]
  },
  {
   "cell_type": "markdown",
   "metadata": {},
   "source": [
    "You see that we didn't use ``loc[]``. The reason for this is that boolean arrays use the same shortcut as slices to select along the index axis. We can also use the boolean series to index just one column of the dataframe:"
   ]
  },
  {
   "cell_type": "code",
   "execution_count": 36,
   "metadata": {},
   "outputs": [
    {
     "data": {
      "text/plain": [
       "1    Rahul\n",
       "3    Sarah\n",
       "Name: name, dtype: object"
      ]
     },
     "execution_count": 36,
     "metadata": {},
     "output_type": "execute_result"
    }
   ],
   "source": [
    "result = df.loc[num_bool,\"name\"]\n",
    "result"
   ]
  },
  {
   "cell_type": "markdown",
   "metadata": {},
   "source": [
    "You see that we have used `df.loc[]` to specify both axes.\n",
    "\n",
    "### Task 3.4.9\n",
    "1. Create a boolean series, `motor_bool`, that compares whether the values in the `industry` column from the `f500` dataframe are equal to `\"Motor Vehicles and Parts\"`.\n",
    "2. Use the `motor_bool` boolean series to index the `country` column. Assign the result to `motor_countries`."
   ]
  },
  {
   "cell_type": "code",
   "execution_count": 41,
   "metadata": {},
   "outputs": [],
   "source": [
    "# Start your code below:\n",
    "motor_bool = f500[\"industry\"] == \"Motor ehicles and Parts\"\n",
    "motor_countries = f500[\"industry\"][motor_bool]\n"
   ]
  },
  {
   "cell_type": "markdown",
   "metadata": {},
   "source": [
    "## 10. Using Boolean Arrays to Assign Values (OPTIONAL)\n",
    "\n",
    "In this session, we will look at how we can combine assignment and boolean indexing in pandas.\n",
    "\n",
    "In the following example, we change the `'Motor Vehicles & Parts'` values in the sector column to `'Motor Vehicles and Parts'` – i.e. we will change the ampersand (`&`) to `and`."
   ]
  },
  {
   "cell_type": "code",
   "execution_count": 43,
   "metadata": {},
   "outputs": [],
   "source": [
    "# First, we create a boolean series by comparing the values in the sector column to 'Motor Vehicles & Parts'\n",
    "ampersand_bool = f500[\"sector\"] == \"Motor Vehicles & Parts\"\n",
    "\n",
    "# Next, we use that boolean series and the string \"sector\" to perform the assignment.\n",
    "f500.loc[ampersand_bool,\"sector\"] = \"Motor Vehicles and Parts\""
   ]
  },
  {
   "cell_type": "markdown",
   "metadata": {},
   "source": [
    "We can do what we just did as in one line: remove the intermediate step of creating a boolean series, and combine everything like this:"
   ]
  },
  {
   "cell_type": "code",
   "execution_count": 44,
   "metadata": {},
   "outputs": [],
   "source": [
    "f500.loc[f500[\"sector\"] == \"Motor Vehicles & Parts\",\"sector\"] = \"Motor Vehicles and Parts\""
   ]
  },
  {
   "cell_type": "markdown",
   "metadata": {},
   "source": [
    "Now that we have learned how to put everything into one line, we can use this technique and replace the values in the `previous_rank` column. We want to replace the items with value `0`, as `0` is no reasonable rank. What we can replace these values with? We can replace these values with `np.nan` – this value is used in pandas to represent values that cannot be represented numerically, such as some missing values."
   ]
  },
  {
   "cell_type": "markdown",
   "metadata": {},
   "source": [
    "### Task 3.4.10\n",
    "1. Use boolean indexing to update values in the `previous_rank` column of the `f500` dataframe:\n",
    "    - There should now be a value of `np.nan` where there previously was a value of `0`.\n",
    "    - It is up to you whether you assign the boolean series to its own variable first, or whether you complete the operation in one line.\n",
    "2. Create a new pandas series, `prev_rank_after`, using the same syntax that was used to create the `prev_rank_before` series.\n",
    "3. Compare the `prev_rank_before` and the `prev_rank_after` series."
   ]
  },
  {
   "cell_type": "code",
   "execution_count": 45,
   "metadata": {},
   "outputs": [
    {
     "name": "stdout",
     "output_type": "stream",
     "text": [
      "previous_rank\n",
      "0      33\n",
      "1       1\n",
      "302     1\n",
      "334     1\n",
      "325     1\n",
      "Name: count, dtype: int64\n",
      "previous_rank\n",
      "NaN      33\n",
      "1.0       1\n",
      "302.0     1\n",
      "334.0     1\n",
      "325.0     1\n",
      "Name: count, dtype: int64\n"
     ]
    }
   ],
   "source": [
    "import numpy as np\n",
    "f500 = pd.read_csv('../../../Data/csv/f500.csv',index_col=0)\n",
    "prev_rank_before = f500[\"previous_rank\"].value_counts(dropna=False).head()\n",
    "\n",
    "# Start your code below:\n",
    "f500.loc[f500[\"previous_rank\"] == 0] = np.nan\n",
    "\n",
    "prev_rank_after = f500[\"previous_rank\"].value_counts(dropna=False).head()\n",
    "print(prev_rank_before)\n",
    "print(prev_rank_after)\n"
   ]
  },
  {
   "cell_type": "markdown",
   "metadata": {},
   "source": [
    "## 11. Creating New Columns (IMPORTANT)\n",
    "\n",
    "When we try to assign a value or values to a new column label in pandas, a new column will be created in our dataframe. Below we've added a new column to a dataframe named `top5_rank_revenue`:"
   ]
  },
  {
   "cell_type": "markdown",
   "metadata": {},
   "source": [
    "````python\n",
    "top5_rank_revenue[\"year_founded\"] = 0\n",
    "print(top5_rank_revenue)\n",
    "````"
   ]
  },
  {
   "cell_type": "markdown",
   "metadata": {},
   "source": [
    "|_                          |rank |revenues |year_founded|\n",
    "|--------------------------|-----|---------|------------|\n",
    "|Walmart                   |   1 |       0 |           0|\n",
    "|State Grid                |   2 |       0 |           0|\n",
    "|Sinopec Group             |   3 |     999 |           0|\n",
    "|China National Petroleum  |   4 |       0 |           0|\n",
    "|Toyota Motor              |   5 |       0 |           0|"
   ]
  },
  {
   "cell_type": "markdown",
   "metadata": {},
   "source": [
    "### Task 3.4.11\n",
    "1. Add a new column named `rank_change` to the `f500` dataframe. This column should show the change of ranks which you get by subtracting the values in the `rank` column from the values in the `previous_rank` column.\n",
    "2. Use the `Series.describe()` method to return a series of descriptive statistics for the `rank_change` column. Assign the result to `rank_change_desc`.\n",
    "3. Verify that the minimum value of the `rank_change` column is now greater than `-500`.\n",
    "\n"
   ]
  },
  {
   "cell_type": "code",
   "execution_count": 46,
   "metadata": {},
   "outputs": [
    {
     "data": {
      "text/plain": [
       "count    467.000000\n",
       "mean      -3.533191\n",
       "std       44.293603\n",
       "min     -199.000000\n",
       "25%      -21.000000\n",
       "50%       -2.000000\n",
       "75%       10.000000\n",
       "max      226.000000\n",
       "Name: rank_change, dtype: float64"
      ]
     },
     "execution_count": 46,
     "metadata": {},
     "output_type": "execute_result"
    }
   ],
   "source": [
    "# Start your code below:\n",
    "f500[\"rank_change\"] = f500[\"previous_rank\"] - f500[\"rank\"]\n",
    "rank_change_desc = f500[\"rank_change\"].describe()\n",
    "rank_change_desc\n"
   ]
  },
  {
   "cell_type": "code",
   "execution_count": null,
   "metadata": {},
   "outputs": [],
   "source": []
  }
 ],
 "metadata": {
  "kernelspec": {
   "display_name": "Python 3 (ipykernel)",
   "language": "python",
   "name": "python3"
  },
  "language_info": {
   "codemirror_mode": {
    "name": "ipython",
    "version": 3
   },
   "file_extension": ".py",
   "mimetype": "text/x-python",
   "name": "python",
   "nbconvert_exporter": "python",
   "pygments_lexer": "ipython3",
   "version": "3.11.6"
  }
 },
 "nbformat": 4,
 "nbformat_minor": 4
}
